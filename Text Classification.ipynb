{
 "cells": [
  {
   "cell_type": "code",
   "execution_count": 1,
   "metadata": {},
   "outputs": [],
   "source": [
    "    import numpy as np\n",
    "    import pandas as pd\n",
    "    from sklearn.model_selection import train_test_split\n",
    "    import operator\n",
    "    import os"
   ]
  },
  {
   "cell_type": "code",
   "execution_count": 2,
   "metadata": {},
   "outputs": [],
   "source": [
    "import re,string\n",
    "import math\n",
    "from sklearn.metrics import confusion_matrix,classification_report"
   ]
  },
  {
   "cell_type": "code",
   "execution_count": 3,
   "metadata": {},
   "outputs": [
    {
     "data": {
      "text/plain": [
       "20"
      ]
     },
     "execution_count": 3,
     "metadata": {},
     "output_type": "execute_result"
    }
   ],
   "source": [
    "os.getcwd()\n",
    "os.chdir('C:\\\\Users\\\\sahil computer\\\\Desktop\\\\mini_newsgroups')\n",
    "#for getting each folder name\n",
    "folders=os.listdir()\n",
    "len(folders)"
   ]
  },
  {
   "cell_type": "code",
   "execution_count": 4,
   "metadata": {},
   "outputs": [
    {
     "data": {
      "text/plain": [
       "'51121'"
      ]
     },
     "execution_count": 4,
     "metadata": {},
     "output_type": "execute_result"
    }
   ],
   "source": [
    "os.chdir('C:/Users/sahil computer/Desktop/mini_newsgroups/alt.atheism')\n",
    "#for accessing each file in a folder\n",
    "b=os.listdir()\n",
    "b[0]"
   ]
  },
  {
   "cell_type": "code",
   "execution_count": 5,
   "metadata": {},
   "outputs": [],
   "source": [
    "#preparing available data\n",
    "data=[]\n",
    "for i in folders:\n",
    "    os.chdir('C:/Users/sahil computer/Desktop/mini_newsgroups/'+i)\n",
    "    b=os.listdir()\n",
    "    for j in b:\n",
    "        data.append((os.getcwd()+'/'+j,i))"
   ]
  },
  {
   "cell_type": "code",
   "execution_count": 6,
   "metadata": {},
   "outputs": [],
   "source": [
    "#converting list into required dataframe to split into train and test\n",
    "df_total_data=pd.DataFrame((data))"
   ]
  },
  {
   "cell_type": "code",
   "execution_count": 7,
   "metadata": {},
   "outputs": [
    {
     "data": {
      "text/plain": [
       "((1500, 2), (500, 2))"
      ]
     },
     "execution_count": 7,
     "metadata": {},
     "output_type": "execute_result"
    }
   ],
   "source": [
    "from sklearn.model_selection import train_test_split\n",
    "df_train,df_test=train_test_split(df_total_data)\n",
    "df_train.shape,df_test.shape"
   ]
  },
  {
   "cell_type": "code",
   "execution_count": 8,
   "metadata": {},
   "outputs": [
    {
     "data": {
      "text/plain": [
       "1500"
      ]
     },
     "execution_count": 8,
     "metadata": {},
     "output_type": "execute_result"
    }
   ],
   "source": [
    "x_train=np.array(df_train.iloc[:,0])\n",
    "y_train=np.array(df_train.iloc[:,1])\n",
    "x_train.shape[0]"
   ]
  },
  {
   "cell_type": "code",
   "execution_count": 9,
   "metadata": {},
   "outputs": [
    {
     "data": {
      "text/plain": [
       "(500,)"
      ]
     },
     "execution_count": 9,
     "metadata": {},
     "output_type": "execute_result"
    }
   ],
   "source": [
    "x_test=np.array(df_test.iloc[:,0])\n",
    "y_test=np.array(df_test.iloc[:,1])\n",
    "y_test.shape"
   ]
  },
  {
   "cell_type": "code",
   "execution_count": 10,
   "metadata": {},
   "outputs": [],
   "source": [
    "f1=open('C:/Users/sahil computer/Downloads/stopwords_en.txt')\n",
    "stop_word_list=f1.read().split()\n",
    "#stop word list\n",
    "#f2"
   ]
  },
  {
   "cell_type": "code",
   "execution_count": 11,
   "metadata": {},
   "outputs": [],
   "source": [
    "#storing all punctuation marks \n",
    "p_marks=set(string.punctuation)\n",
    "#p_marks"
   ]
  },
  {
   "cell_type": "code",
   "execution_count": null,
   "metadata": {},
   "outputs": [],
   "source": []
  },
  {
   "cell_type": "code",
   "execution_count": 13,
   "metadata": {},
   "outputs": [
    {
     "data": {
      "text/plain": [
       "33124"
      ]
     },
     "execution_count": 13,
     "metadata": {},
     "output_type": "execute_result"
    }
   ],
   "source": [
    "dict={}\n",
    "for i in range(x_train.shape[0]):\n",
    "        list1=0\n",
    "        list2=0\n",
    "        list3=0\n",
    "        list=0\n",
    "        list4=0\n",
    "        obj=open(x_train[i],errors=\"ignore\")\n",
    "        #print(c)\n",
    "        c=obj.readlines()\n",
    "        list=(\" \".join(c[7:])).lower().split()\n",
    "        \n",
    "        #removing stop words\n",
    "        list1=' '.join(i for i in list if i.lower() not in (x.lower() for x in stop_word_list))\n",
    "        \n",
    "        #removing punctuation_marks\n",
    "        regex = re.compile('[%s]' % re.escape(string.punctuation))\n",
    "        list2=''.join(ch for ch in list1 if ch not in p_marks)\n",
    "        \n",
    "        #removing digits\n",
    "        list3=\"\".join([c for c in list2 if not c.isdigit()])\n",
    "        \n",
    "        #creating dictionary\n",
    "        list4=list3.split()\n",
    "        for i in list4:\n",
    "            if i in dict:\n",
    "                dict[i]+=1\n",
    "            else:\n",
    "                dict[i]=1\n",
    "                \n",
    "len(dict)"
   ]
  },
  {
   "cell_type": "code",
   "execution_count": 60,
   "metadata": {},
   "outputs": [
    {
     "data": {
      "text/plain": [
       "33124"
      ]
     },
     "execution_count": 60,
     "metadata": {},
     "output_type": "execute_result"
    }
   ],
   "source": [
    "#to sort dictionary according to frequency values\n",
    "sorted_dict = sorted(dict.items(), key=operator.itemgetter(1),reverse=True)\n",
    "final_words=sorted_dict[:4000]\n",
    "len(sorted_dict)"
   ]
  },
  {
   "cell_type": "code",
   "execution_count": 61,
   "metadata": {},
   "outputs": [
    {
     "data": {
      "text/plain": [
       "4000"
      ]
     },
     "execution_count": 61,
     "metadata": {},
     "output_type": "execute_result"
    }
   ],
   "source": [
    "#storing values of all words with high frequency\n",
    "values=[]\n",
    "for i in range(len(final_words)):\n",
    "    values.append(final_words[i][0])\n",
    "    \n",
    "len(values)"
   ]
  },
  {
   "cell_type": "code",
   "execution_count": 63,
   "metadata": {},
   "outputs": [],
   "source": [
    "#creating basic structure of dataframe\n",
    "x=np.zeros((1500,4000))\n",
    "\n",
    "final_df=pd.DataFrame(x,columns=values)\n",
    "#final_df"
   ]
  },
  {
   "cell_type": "code",
   "execution_count": 64,
   "metadata": {},
   "outputs": [
    {
     "data": {
      "text/plain": [
       "'writes'"
      ]
     },
     "execution_count": 64,
     "metadata": {},
     "output_type": "execute_result"
    }
   ],
   "source": [
    "#for storing names of features\n",
    "col_val=final_df.columns\n",
    "col_val[1]"
   ]
  },
  {
   "cell_type": "code",
   "execution_count": 65,
   "metadata": {},
   "outputs": [],
   "source": [
    "#storing frequency in whole dataframe \n",
    "index=0\n",
    "for i in range(x_train.shape[0]):\n",
    "        list1=[]\n",
    "        list2=[]\n",
    "        list3=[]\n",
    "        list=[]\n",
    "        list4=[]\n",
    "        obj=open(x_train[i],errors=\"ignore\")\n",
    "        #print(c)\n",
    "        c=obj.readlines()\n",
    "        list=(\" \".join(c[7:])).lower().split()\n",
    "        \n",
    "        list1=' '.join(i for i in list if i.lower() not in (x.lower() for x in stop_word_list))\n",
    "        regex = re.compile('[%s]' % re.escape(string.punctuation))\n",
    "        list2=''.join(ch for ch in list1 if ch not in p_marks)\n",
    "        list3=\"\".join([c for c in list2 if not c.isdigit()])\n",
    "        list4=list3.split()\n",
    "\n",
    "        for k in list4:\n",
    "            if k in col_val:\n",
    "                final_df[k][index]+=1\n",
    "                \n",
    "        index+=1\n"
   ]
  },
  {
   "cell_type": "code",
   "execution_count": 35,
   "metadata": {},
   "outputs": [],
   "source": [
    "#final_df"
   ]
  },
  {
   "cell_type": "code",
   "execution_count": 73,
   "metadata": {},
   "outputs": [],
   "source": [
    "def fit(x,y):\n",
    "    counts={}\n",
    "    class_values=set(y)\n",
    "    for current_class in class_values:\n",
    "        total=0\n",
    "        counts[current_class]={}\n",
    "        rows_with_current_class=(y==current_class)\n",
    "        x_current_class=x[rows_with_current_class]\n",
    "        y_current_class=y[rows_with_current_class]\n",
    "        for p in range(x_current_class.shape[0]):\n",
    "            for z in range(x_current_class.shape[1]):\n",
    "                total+=x_current_class[p][z]\n",
    "        counts[current_class][\"total_count\"]=total\n",
    "        \n",
    "        for i in range(x_current_class.shape[1]):\n",
    "            q=0\n",
    "            for j in range(x_current_class.shape[0]):\n",
    "                q+=x_current_class[j][i]\n",
    "            counts[current_class][i]=q\n",
    "\n",
    "    return counts   "
   ]
  },
  {
   "cell_type": "code",
   "execution_count": 74,
   "metadata": {},
   "outputs": [],
   "source": [
    "counts=fit(final_df.values,y_train)"
   ]
  },
  {
   "cell_type": "code",
   "execution_count": 75,
   "metadata": {},
   "outputs": [],
   "source": [
    "#counts"
   ]
  },
  {
   "cell_type": "code",
   "execution_count": 76,
   "metadata": {},
   "outputs": [],
   "source": [
    "def predict(x_test,counts):\n",
    "    output=[]\n",
    "    for x in x_test:\n",
    "        output.append(predictSingle(x,counts))\n",
    "    return output"
   ]
  },
  {
   "cell_type": "code",
   "execution_count": 77,
   "metadata": {},
   "outputs": [],
   "source": [
    "def predictSingle(x,counts):\n",
    "    max_pr=float(\"-inf\")\n",
    "    classes=counts.keys()\n",
    "    for c in classes:\n",
    "        p=findSingleClassProb(x,counts,c)\n",
    "        if p>max_pr:\n",
    "            max_pr=p\n",
    "            max_class=c\n",
    "    return max_class"
   ]
  },
  {
   "cell_type": "code",
   "execution_count": 78,
   "metadata": {},
   "outputs": [],
   "source": [
    "def findSingleClassProb(x,counts,c):\n",
    "    ans=0\n",
    "    for i in range(len(x)):\n",
    "        pr_feat=math.log((counts[c][i]+1))-math.log((counts[c][\"total_count\"]+4000))\n",
    "        log_prob=pr_feat*x[i]\n",
    "        ans+=log_prob\n",
    "    return ans"
   ]
  },
  {
   "cell_type": "code",
   "execution_count": 79,
   "metadata": {},
   "outputs": [
    {
     "data": {
      "text/plain": [
       "(500, 4000)"
      ]
     },
     "execution_count": 79,
     "metadata": {},
     "output_type": "execute_result"
    }
   ],
   "source": [
    "x_df=np.zeros((500,4000))\n",
    "x_df=pd.DataFrame(x_df,columns=values)\n",
    "x_df.shape"
   ]
  },
  {
   "cell_type": "code",
   "execution_count": 80,
   "metadata": {},
   "outputs": [],
   "source": [
    "index=0\n",
    "for i in range(x_test.shape[0]):\n",
    "        list1=0\n",
    "        list2=0\n",
    "        list3=0\n",
    "        list=0\n",
    "        list4=0\n",
    "        obj=open(x_test[i],errors=\"ignore\")\n",
    "        #print(c)\n",
    "        c=obj.readlines()\n",
    "        list=(\" \".join(c[7:])).lower().split()\n",
    "        \n",
    "        list1=' '.join(i for i in list if i.lower() not in (x.lower() for x in stop_word_list))\n",
    "        regex = re.compile('[%s]' % re.escape(string.punctuation))\n",
    "        list2=''.join(ch for ch in list1 if ch not in p_marks)\n",
    "        list3=\"\".join([c for c in list2 if not c.isdigit()])\n",
    "        list4=list3.split()\n",
    "\n",
    "        for k in list4:\n",
    "            if k in col_val:\n",
    "                x_df[k][index]+=1\n",
    "                #for j in range(len(col_val)):\n",
    "                   # if k==col_val[j]:\n",
    "                    #    x.iloc[i,j]+=1\n",
    "        index+=1\n"
   ]
  },
  {
   "cell_type": "code",
   "execution_count": 81,
   "metadata": {},
   "outputs": [],
   "source": [
    "y_pred=predict(x_df.values,counts)"
   ]
  },
  {
   "cell_type": "code",
   "execution_count": 82,
   "metadata": {},
   "outputs": [
    {
     "name": "stdout",
     "output_type": "stream",
     "text": [
      "                          precision    recall  f1-score   support\n",
      "\n",
      "             alt.atheism       0.70      0.74      0.72        31\n",
      "           comp.graphics       0.44      0.52      0.48        21\n",
      " comp.os.ms-windows.misc       0.55      0.52      0.53        31\n",
      "comp.sys.ibm.pc.hardware       0.32      0.86      0.47        14\n",
      "   comp.sys.mac.hardware       0.79      0.72      0.75        32\n",
      "          comp.windows.x       0.89      0.55      0.68        29\n",
      "            misc.forsale       0.70      0.63      0.67        30\n",
      "               rec.autos       0.43      0.59      0.50        22\n",
      "         rec.motorcycles       0.61      0.80      0.69        25\n",
      "      rec.sport.baseball       0.67      0.67      0.67        21\n",
      "        rec.sport.hockey       0.84      0.91      0.87        23\n",
      "               sci.crypt       0.89      0.57      0.69        30\n",
      "         sci.electronics       0.77      0.38      0.51        26\n",
      "                 sci.med       0.94      0.76      0.84        21\n",
      "               sci.space       0.85      0.79      0.82        29\n",
      "  soc.religion.christian       0.91      0.95      0.93        22\n",
      "      talk.politics.guns       0.47      0.79      0.59        24\n",
      "   talk.politics.mideast       0.92      0.85      0.88        26\n",
      "      talk.politics.misc       0.64      0.33      0.44        21\n",
      "      talk.religion.misc       0.53      0.45      0.49        22\n",
      "\n",
      "               micro avg       0.67      0.67      0.67       500\n",
      "               macro avg       0.69      0.67      0.66       500\n",
      "            weighted avg       0.71      0.67      0.67       500\n",
      "\n"
     ]
    }
   ],
   "source": [
    "print(classification_report(y_pred=y_pred,y_true=y_test))"
   ]
  },
  {
   "cell_type": "code",
   "execution_count": null,
   "metadata": {},
   "outputs": [],
   "source": []
  }
 ],
 "metadata": {
  "kernelspec": {
   "display_name": "Python 3",
   "language": "python",
   "name": "python3"
  },
  "language_info": {
   "codemirror_mode": {
    "name": "ipython",
    "version": 3
   },
   "file_extension": ".py",
   "mimetype": "text/x-python",
   "name": "python",
   "nbconvert_exporter": "python",
   "pygments_lexer": "ipython3",
   "version": "3.7.1"
  }
 },
 "nbformat": 4,
 "nbformat_minor": 2
}
