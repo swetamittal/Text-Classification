{
 "cells": [
  {
   "cell_type": "code",
   "execution_count": 1,
   "metadata": {},
   "outputs": [],
   "source": [
    "import numpy as np\n",
    "import pandas as pd\n",
    "from sklearn.model_selection import train_test_split\n",
    "import operator\n",
    "import os"
   ]
  },
  {
   "cell_type": "code",
   "execution_count": 2,
   "metadata": {},
   "outputs": [],
   "source": [
    "import re,string\n",
    "import math\n",
    "from sklearn.metrics import confusion_matrix,classification_report"
   ]
  },
  {
   "cell_type": "code",
   "execution_count": 3,
   "metadata": {},
   "outputs": [],
   "source": [
    "from sklearn.naive_bayes import MultinomialNB"
   ]
  },
  {
   "cell_type": "code",
   "execution_count": 4,
   "metadata": {},
   "outputs": [
    {
     "data": {
      "text/plain": [
       "20"
      ]
     },
     "execution_count": 4,
     "metadata": {},
     "output_type": "execute_result"
    }
   ],
   "source": [
    "os.getcwd()\n",
    "os.chdir('C:\\\\Users\\\\sahil computer\\\\Desktop\\\\20_newsgroups')\n",
    "#for getting each folder name\n",
    "folders=os.listdir()\n",
    "len(folders)"
   ]
  },
  {
   "cell_type": "code",
   "execution_count": 5,
   "metadata": {},
   "outputs": [],
   "source": [
    "#preparing available data\n",
    "data=[]\n",
    "for i in folders:\n",
    "    os.chdir('C:/Users/sahil computer/Desktop/20_newsgroups/'+i)\n",
    "    b=os.listdir()\n",
    "    for j in b:\n",
    "        data.append((os.getcwd()+'/'+j,i))"
   ]
  },
  {
   "cell_type": "code",
   "execution_count": 6,
   "metadata": {},
   "outputs": [],
   "source": [
    "#converting list into required dataframe to split into train and test\n",
    "df_total_data=pd.DataFrame((data))"
   ]
  },
  {
   "cell_type": "code",
   "execution_count": 7,
   "metadata": {},
   "outputs": [
    {
     "data": {
      "text/plain": [
       "((14997, 2), (5000, 2))"
      ]
     },
     "execution_count": 7,
     "metadata": {},
     "output_type": "execute_result"
    }
   ],
   "source": [
    "from sklearn.model_selection import train_test_split\n",
    "df_train,df_test=train_test_split(df_total_data)\n",
    "df_train.shape,df_test.shape"
   ]
  },
  {
   "cell_type": "code",
   "execution_count": 8,
   "metadata": {},
   "outputs": [
    {
     "data": {
      "text/plain": [
       "14997"
      ]
     },
     "execution_count": 8,
     "metadata": {},
     "output_type": "execute_result"
    }
   ],
   "source": [
    "x_train=np.array(df_train.iloc[:,0])\n",
    "y_train=np.array(df_train.iloc[:,1])\n",
    "x_train.shape[0]"
   ]
  },
  {
   "cell_type": "code",
   "execution_count": 9,
   "metadata": {},
   "outputs": [
    {
     "data": {
      "text/plain": [
       "(5000,)"
      ]
     },
     "execution_count": 9,
     "metadata": {},
     "output_type": "execute_result"
    }
   ],
   "source": [
    "x_test=np.array(df_test.iloc[:,0])\n",
    "y_test=np.array(df_test.iloc[:,1])\n",
    "y_test.shape"
   ]
  },
  {
   "cell_type": "code",
   "execution_count": 10,
   "metadata": {},
   "outputs": [],
   "source": [
    "f1=open('C:/Users/sahil computer/Downloads/stopwords_en.txt')\n",
    "stop_word_list=f1.read().split()\n",
    "#stop word list\n",
    "#f2"
   ]
  },
  {
   "cell_type": "code",
   "execution_count": 11,
   "metadata": {},
   "outputs": [],
   "source": [
    "#storing all punctuation marks \n",
    "p_marks=set(string.punctuation)\n",
    "#p_marks"
   ]
  },
  {
   "cell_type": "code",
   "execution_count": 13,
   "metadata": {},
   "outputs": [
    {
     "data": {
      "text/plain": [
       "134433"
      ]
     },
     "execution_count": 13,
     "metadata": {},
     "output_type": "execute_result"
    }
   ],
   "source": [
    "dict={}\n",
    "for i in range(x_train.shape[0]):\n",
    "        list1=0\n",
    "        list2=0\n",
    "        list3=0\n",
    "        list=0\n",
    "        list4=0\n",
    "        obj=open(x_train[i],errors=\"ignore\")\n",
    "        #print(c)\n",
    "        c=obj.readlines()\n",
    "        list=(\" \".join(c[7:])).lower().split()\n",
    "        \n",
    "        #removing stop words\n",
    "        list1=' '.join(i for i in list if i.lower() not in (x.lower() for x in stop_word_list))\n",
    "        \n",
    "        #removing punctuation_marks\n",
    "        regex = re.compile('[%s]' % re.escape(string.punctuation))\n",
    "        list2=''.join(ch for ch in list1 if ch not in p_marks)\n",
    "        \n",
    "        #removing digits\n",
    "        list3=\"\".join([c for c in list2 if not c.isdigit()])\n",
    "        \n",
    "        #creating dictionary\n",
    "        list4=list3.split()\n",
    "        for i in list4:\n",
    "            if i in dict:\n",
    "                dict[i]+=1\n",
    "            else:\n",
    "                dict[i]=1\n",
    "                \n",
    "len(dict)"
   ]
  },
  {
   "cell_type": "code",
   "execution_count": 14,
   "metadata": {},
   "outputs": [
    {
     "data": {
      "text/plain": [
       "134433"
      ]
     },
     "execution_count": 14,
     "metadata": {},
     "output_type": "execute_result"
    }
   ],
   "source": [
    "#to sort dictionary according to frequency values\n",
    "sorted_dict = sorted(dict.items(), key=operator.itemgetter(1),reverse=True)\n",
    "final_words=sorted_dict[:4000]\n",
    "len(sorted_dict)"
   ]
  },
  {
   "cell_type": "code",
   "execution_count": 15,
   "metadata": {},
   "outputs": [
    {
     "data": {
      "text/plain": [
       "4000"
      ]
     },
     "execution_count": 15,
     "metadata": {},
     "output_type": "execute_result"
    }
   ],
   "source": [
    "#storing values of all words with high frequency\n",
    "values=[]\n",
    "for i in range(len(final_words)):\n",
    "    values.append(final_words[i][0])\n",
    "    \n",
    "len(values)"
   ]
  },
  {
   "cell_type": "code",
   "execution_count": 19,
   "metadata": {},
   "outputs": [],
   "source": [
    "#creating basic structure of dataframe\n",
    "x=np.zeros((14997,4000))\n",
    "\n",
    "final_df=pd.DataFrame(x,columns=values)\n",
    "#final_df"
   ]
  },
  {
   "cell_type": "code",
   "execution_count": 20,
   "metadata": {},
   "outputs": [
    {
     "data": {
      "text/plain": [
       "'writes'"
      ]
     },
     "execution_count": 20,
     "metadata": {},
     "output_type": "execute_result"
    }
   ],
   "source": [
    "#for storing names of features\n",
    "col_val=final_df.columns\n",
    "col_val[1]"
   ]
  },
  {
   "cell_type": "code",
   "execution_count": 21,
   "metadata": {},
   "outputs": [],
   "source": [
    "#storing frequency in whole dataframe \n",
    "index=0\n",
    "for i in range(x_train.shape[0]):\n",
    "        list1=[]\n",
    "        list2=[]\n",
    "        list3=[]\n",
    "        list=[]\n",
    "        list4=[]\n",
    "        obj=open(x_train[i],errors=\"ignore\")\n",
    "        #print(c)\n",
    "        c=obj.readlines()\n",
    "        list=(\" \".join(c[7:])).lower().split()\n",
    "        \n",
    "        list1=' '.join(i for i in list if i.lower() not in (x.lower() for x in stop_word_list))\n",
    "        regex = re.compile('[%s]' % re.escape(string.punctuation))\n",
    "        list2=''.join(ch for ch in list1 if ch not in p_marks)\n",
    "        list3=\"\".join([c for c in list2 if not c.isdigit()])\n",
    "        list4=list3.split()\n",
    "\n",
    "        for k in list4:\n",
    "            if k in col_val:\n",
    "                final_df[k][index]+=1\n",
    "                \n",
    "        index+=1\n"
   ]
  },
  {
   "cell_type": "code",
   "execution_count": 22,
   "metadata": {},
   "outputs": [
    {
     "data": {
      "text/plain": [
       "MultinomialNB(alpha=1.0, class_prior=None, fit_prior=True)"
      ]
     },
     "execution_count": 22,
     "metadata": {},
     "output_type": "execute_result"
    }
   ],
   "source": [
    "clf=MultinomialNB()\n",
    "clf.fit(final_df.values,y_train)"
   ]
  },
  {
   "cell_type": "code",
   "execution_count": 23,
   "metadata": {},
   "outputs": [
    {
     "data": {
      "text/plain": [
       "(5000, 4000)"
      ]
     },
     "execution_count": 23,
     "metadata": {},
     "output_type": "execute_result"
    }
   ],
   "source": [
    "x_df=np.zeros((5000,4000))\n",
    "x_df=pd.DataFrame(x_df,columns=values)\n",
    "x_df.shape"
   ]
  },
  {
   "cell_type": "code",
   "execution_count": 24,
   "metadata": {},
   "outputs": [],
   "source": [
    "index=0\n",
    "for i in range(x_test.shape[0]):\n",
    "        list1=0\n",
    "        list2=0\n",
    "        list3=0\n",
    "        list=0\n",
    "        list4=0\n",
    "        obj=open(x_test[i],errors=\"ignore\")\n",
    "        #print(c)\n",
    "        c=obj.readlines()\n",
    "        list=(\" \".join(c[7:])).lower().split()\n",
    "        \n",
    "        list1=' '.join(i for i in list if i.lower() not in (x.lower() for x in stop_word_list))\n",
    "        regex = re.compile('[%s]' % re.escape(string.punctuation))\n",
    "        list2=''.join(ch for ch in list1 if ch not in p_marks)\n",
    "        list3=\"\".join([c for c in list2 if not c.isdigit()])\n",
    "        list4=list3.split()\n",
    "\n",
    "        for k in list4:\n",
    "            if k in col_val:\n",
    "                x_df[k][index]+=1\n",
    "                #for j in range(len(col_val)):\n",
    "                   # if k==col_val[j]:\n",
    "                    #    x.iloc[i,j]+=1\n",
    "        index+=1\n"
   ]
  },
  {
   "cell_type": "code",
   "execution_count": 25,
   "metadata": {},
   "outputs": [],
   "source": [
    "y_pred=clf.predict(x_df.values)"
   ]
  },
  {
   "cell_type": "code",
   "execution_count": 26,
   "metadata": {},
   "outputs": [
    {
     "name": "stdout",
     "output_type": "stream",
     "text": [
      "                          precision    recall  f1-score   support\n",
      "\n",
      "             alt.atheism       0.64      0.77      0.70       255\n",
      "           comp.graphics       0.63      0.67      0.65       240\n",
      " comp.os.ms-windows.misc       0.74      0.69      0.71       252\n",
      "comp.sys.ibm.pc.hardware       0.68      0.70      0.69       255\n",
      "   comp.sys.mac.hardware       0.68      0.78      0.73       259\n",
      "          comp.windows.x       0.82      0.73      0.77       250\n",
      "            misc.forsale       0.70      0.76      0.72       259\n",
      "               rec.autos       0.80      0.83      0.81       259\n",
      "         rec.motorcycles       0.73      0.87      0.79       257\n",
      "      rec.sport.baseball       0.86      0.91      0.88       209\n",
      "        rec.sport.hockey       0.96      0.91      0.94       277\n",
      "               sci.crypt       0.93      0.83      0.88       235\n",
      "         sci.electronics       0.74      0.71      0.73       258\n",
      "                 sci.med       0.89      0.80      0.85       248\n",
      "               sci.space       0.89      0.85      0.87       259\n",
      "  soc.religion.christian       0.90      0.97      0.93       243\n",
      "      talk.politics.guns       0.69      0.85      0.76       226\n",
      "   talk.politics.mideast       0.92      0.82      0.87       266\n",
      "      talk.politics.misc       0.72      0.62      0.66       253\n",
      "      talk.religion.misc       0.59      0.38      0.47       240\n",
      "\n",
      "               micro avg       0.77      0.77      0.77      5000\n",
      "               macro avg       0.78      0.77      0.77      5000\n",
      "            weighted avg       0.78      0.77      0.77      5000\n",
      "\n"
     ]
    }
   ],
   "source": [
    "print(classification_report(y_pred=y_pred,y_true=y_test))"
   ]
  },
  {
   "cell_type": "code",
   "execution_count": 27,
   "metadata": {},
   "outputs": [
    {
     "name": "stdout",
     "output_type": "stream",
     "text": [
      "[[196   1   0   0   0   1   1   1   4   2   0   1   1   2   2   3   4   4\n",
      "    6  26]\n",
      " [  2 161  18   9   7  14   8   1   3   0   1   1   6   4   4   0   0   0\n",
      "    0   1]\n",
      " [  0  19 173  23   5  17   6   0   3   0   0   0   2   2   1   0   0   0\n",
      "    0   1]\n",
      " [  1   3  16 178  29   2   9   2   1   2   0   1   9   1   0   0   0   0\n",
      "    0   1]\n",
      " [  0   4   6  18 203   1   8   4   1   0   0   0  11   1   2   0   0   0\n",
      "    0   0]\n",
      " [  0  34  11   7   2 182   5   0   2   1   0   2   3   0   1   0   0   0\n",
      "    0   0]\n",
      " [  0   0   2  10  17   0 196   7   6   3   2   1   8   0   4   0   1   0\n",
      "    2   0]\n",
      " [  1   1   0   0   2   1   6 215  19   2   0   1   5   0   2   0   2   0\n",
      "    2   0]\n",
      " [  1   2   0   1   0   0   7  14 224   1   0   0   2   1   0   0   1   0\n",
      "    3   0]\n",
      " [  1   0   1   0   0   0   4   3   3 190   6   0   1   0   0   0   0   0\n",
      "    0   0]\n",
      " [  1   1   0   0   2   0   2   0   3  11 253   0   2   0   0   0   0   0\n",
      "    2   0]\n",
      " [  1   8   3   0   2   1   2   1   3   1   0 195   6   0   1   0   7   0\n",
      "    3   1]\n",
      " [  0   6   2  14  19   0  12   8   2   1   0   4 184   2   1   0   1   0\n",
      "    1   1]\n",
      " [  4   6   1   0   3   0   3   3  11   1   0   2   5 199   5   1   1   0\n",
      "    0   3]\n",
      " [  2   7   1   0   1   1   2   5   6   3   0   1   0   2 221   0   0   1\n",
      "    5   1]\n",
      " [  2   0   1   0   0   0   0   0   1   0   0   0   0   1   0 235   1   0\n",
      "    2   0]\n",
      " [  1   0   0   0   1   1   4   1   3   0   0   0   3   0   0   0 193   1\n",
      "   13   5]\n",
      " [  3   2   0   1   4   0   2   1   6   1   0   0   0   4   1   1   5 219\n",
      "   13   3]\n",
      " [  6   0   0   0   0   0   3   3   4   1   0   1   0   2   2   0  44  11\n",
      "  156  20]\n",
      " [ 82   2   0   0   0   0   2   1   3   1   1   0   1   2   2  20  20   2\n",
      "    9  92]]\n"
     ]
    }
   ],
   "source": [
    "print(confusion_matrix(y_pred=y_pred,y_true=y_test))"
   ]
  }
 ],
 "metadata": {
  "kernelspec": {
   "display_name": "Python 3",
   "language": "python",
   "name": "python3"
  },
  "language_info": {
   "codemirror_mode": {
    "name": "ipython",
    "version": 3
   },
   "file_extension": ".py",
   "mimetype": "text/x-python",
   "name": "python",
   "nbconvert_exporter": "python",
   "pygments_lexer": "ipython3",
   "version": "3.7.1"
  }
 },
 "nbformat": 4,
 "nbformat_minor": 2
}
