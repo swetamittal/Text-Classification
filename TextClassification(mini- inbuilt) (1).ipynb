{
 "cells": [
  {
   "cell_type": "code",
   "execution_count": 1,
   "metadata": {},
   "outputs": [],
   "source": [
    "import numpy as np\n",
    "import pandas as pd\n",
    "from sklearn.model_selection import train_test_split\n",
    "import operator\n",
    "import os"
   ]
  },
  {
   "cell_type": "code",
   "execution_count": 2,
   "metadata": {},
   "outputs": [],
   "source": [
    "import re,string\n",
    "import math\n",
    "from sklearn.metrics import confusion_matrix,classification_report"
   ]
  },
  {
   "cell_type": "code",
   "execution_count": 22,
   "metadata": {},
   "outputs": [],
   "source": [
    "from sklearn.naive_bayes import MultinomialNB"
   ]
  },
  {
   "cell_type": "code",
   "execution_count": 3,
   "metadata": {},
   "outputs": [
    {
     "data": {
      "text/plain": [
       "20"
      ]
     },
     "execution_count": 3,
     "metadata": {},
     "output_type": "execute_result"
    }
   ],
   "source": [
    "os.getcwd()\n",
    "os.chdir('C:\\\\Users\\\\sahil computer\\\\Desktop\\\\mini_newsgroups')\n",
    "#for getting each folder name\n",
    "folders=os.listdir()\n",
    "len(folders)"
   ]
  },
  {
   "cell_type": "code",
   "execution_count": 4,
   "metadata": {},
   "outputs": [
    {
     "data": {
      "text/plain": [
       "'51121'"
      ]
     },
     "execution_count": 4,
     "metadata": {},
     "output_type": "execute_result"
    }
   ],
   "source": [
    "os.chdir('C:/Users/sahil computer/Desktop/mini_newsgroups/alt.atheism')\n",
    "#for accessing each file in a folder\n",
    "b=os.listdir()\n",
    "b[0]"
   ]
  },
  {
   "cell_type": "code",
   "execution_count": 5,
   "metadata": {},
   "outputs": [],
   "source": [
    "#preparing available data\n",
    "data=[]\n",
    "for i in folders:\n",
    "    os.chdir('C:/Users/sahil computer/Desktop/mini_newsgroups/'+i)\n",
    "    b=os.listdir()\n",
    "    for j in b:\n",
    "        data.append((os.getcwd()+'/'+j,i))"
   ]
  },
  {
   "cell_type": "code",
   "execution_count": 6,
   "metadata": {},
   "outputs": [],
   "source": [
    "#converting list into required dataframe to split into train and test\n",
    "df_total_data=pd.DataFrame((data))"
   ]
  },
  {
   "cell_type": "code",
   "execution_count": 7,
   "metadata": {},
   "outputs": [
    {
     "data": {
      "text/plain": [
       "((1500, 2), (500, 2))"
      ]
     },
     "execution_count": 7,
     "metadata": {},
     "output_type": "execute_result"
    }
   ],
   "source": [
    "from sklearn.model_selection import train_test_split\n",
    "df_train,df_test=train_test_split(df_total_data)\n",
    "df_train.shape,df_test.shape"
   ]
  },
  {
   "cell_type": "code",
   "execution_count": 8,
   "metadata": {},
   "outputs": [
    {
     "data": {
      "text/plain": [
       "1500"
      ]
     },
     "execution_count": 8,
     "metadata": {},
     "output_type": "execute_result"
    }
   ],
   "source": [
    "x_train=np.array(df_train.iloc[:,0])\n",
    "y_train=np.array(df_train.iloc[:,1])\n",
    "x_train.shape[0]"
   ]
  },
  {
   "cell_type": "code",
   "execution_count": 9,
   "metadata": {},
   "outputs": [
    {
     "data": {
      "text/plain": [
       "(500,)"
      ]
     },
     "execution_count": 9,
     "metadata": {},
     "output_type": "execute_result"
    }
   ],
   "source": [
    "x_test=np.array(df_test.iloc[:,0])\n",
    "y_test=np.array(df_test.iloc[:,1])\n",
    "y_test.shape"
   ]
  },
  {
   "cell_type": "code",
   "execution_count": 10,
   "metadata": {},
   "outputs": [],
   "source": [
    "f1=open('C:/Users/sahil computer/Downloads/stopwords_en.txt')\n",
    "stop_word_list=f1.read().split()\n",
    "#stop word list\n",
    "#f2"
   ]
  },
  {
   "cell_type": "code",
   "execution_count": 11,
   "metadata": {},
   "outputs": [],
   "source": [
    "#storing all punctuation marks \n",
    "p_marks=set(string.punctuation)\n",
    "#p_marks"
   ]
  },
  {
   "cell_type": "code",
   "execution_count": 13,
   "metadata": {},
   "outputs": [
    {
     "data": {
      "text/plain": [
       "34213"
      ]
     },
     "execution_count": 13,
     "metadata": {},
     "output_type": "execute_result"
    }
   ],
   "source": [
    "dict={}\n",
    "for i in range(x_train.shape[0]):\n",
    "        list1=0\n",
    "        list2=0\n",
    "        list3=0\n",
    "        list=0\n",
    "        list4=0\n",
    "        obj=open(x_train[i],errors=\"ignore\")\n",
    "        #print(c)\n",
    "        c=obj.readlines()\n",
    "        list=(\" \".join(c[7:])).lower().split()\n",
    "        \n",
    "        #removing stop words\n",
    "        list1=' '.join(i for i in list if i.lower() not in (x.lower() for x in stop_word_list))\n",
    "        \n",
    "        #removing punctuation_marks\n",
    "        regex = re.compile('[%s]' % re.escape(string.punctuation))\n",
    "        list2=''.join(ch for ch in list1 if ch not in p_marks)\n",
    "        \n",
    "        #removing digits\n",
    "        list3=\"\".join([c for c in list2 if not c.isdigit()])\n",
    "        \n",
    "        #creating dictionary\n",
    "        list4=list3.split()\n",
    "        for i in list4:\n",
    "            if i in dict:\n",
    "                dict[i]+=1\n",
    "            else:\n",
    "                dict[i]=1\n",
    "                \n",
    "len(dict)"
   ]
  },
  {
   "cell_type": "code",
   "execution_count": 14,
   "metadata": {},
   "outputs": [
    {
     "data": {
      "text/plain": [
       "34213"
      ]
     },
     "execution_count": 14,
     "metadata": {},
     "output_type": "execute_result"
    }
   ],
   "source": [
    "#to sort dictionary according to frequency values\n",
    "sorted_dict = sorted(dict.items(), key=operator.itemgetter(1),reverse=True)\n",
    "final_words=sorted_dict[:4000]\n",
    "len(sorted_dict)"
   ]
  },
  {
   "cell_type": "code",
   "execution_count": 20,
   "metadata": {},
   "outputs": [
    {
     "data": {
      "text/plain": [
       "4000"
      ]
     },
     "execution_count": 20,
     "metadata": {},
     "output_type": "execute_result"
    }
   ],
   "source": [
    "#storing values of all words with high frequency\n",
    "values=[]\n",
    "for i in range(len(final_words)):\n",
    "    values.append(final_words[i][0])\n",
    "    \n",
    "len(values)"
   ]
  },
  {
   "cell_type": "code",
   "execution_count": null,
   "metadata": {},
   "outputs": [],
   "source": []
  },
  {
   "cell_type": "code",
   "execution_count": 18,
   "metadata": {},
   "outputs": [],
   "source": [
    "#creating basic structure of dataframe\n",
    "x=np.zeros((1500,4000))\n",
    "\n",
    "final_df=pd.DataFrame(x,columns=values)\n",
    "#final_df"
   ]
  },
  {
   "cell_type": "code",
   "execution_count": 19,
   "metadata": {},
   "outputs": [
    {
     "data": {
      "text/plain": [
       "'writes'"
      ]
     },
     "execution_count": 19,
     "metadata": {},
     "output_type": "execute_result"
    }
   ],
   "source": [
    "#for storing names of features\n",
    "col_val=final_df.columns\n",
    "col_val[1]"
   ]
  },
  {
   "cell_type": "code",
   "execution_count": 21,
   "metadata": {},
   "outputs": [],
   "source": [
    "#storing frequency in whole dataframe \n",
    "index=0\n",
    "for i in range(x_train.shape[0]):\n",
    "        list1=[]\n",
    "        list2=[]\n",
    "        list3=[]\n",
    "        list=[]\n",
    "        list4=[]\n",
    "        obj=open(x_train[i],errors=\"ignore\")\n",
    "        #print(c)\n",
    "        c=obj.readlines()\n",
    "        list=(\" \".join(c[7:])).lower().split()\n",
    "        \n",
    "        list1=' '.join(i for i in list if i.lower() not in (x.lower() for x in stop_word_list))\n",
    "        regex = re.compile('[%s]' % re.escape(string.punctuation))\n",
    "        list2=''.join(ch for ch in list1 if ch not in p_marks)\n",
    "        list3=\"\".join([c for c in list2 if not c.isdigit()])\n",
    "        list4=list3.split()\n",
    "\n",
    "        for k in list4:\n",
    "            if k in col_val:\n",
    "                final_df[k][index]+=1\n",
    "                \n",
    "        index+=1\n"
   ]
  },
  {
   "cell_type": "code",
   "execution_count": 23,
   "metadata": {},
   "outputs": [
    {
     "data": {
      "text/plain": [
       "MultinomialNB(alpha=1.0, class_prior=None, fit_prior=True)"
      ]
     },
     "execution_count": 23,
     "metadata": {},
     "output_type": "execute_result"
    }
   ],
   "source": [
    "clf=MultinomialNB()\n",
    "clf.fit(final_df.values,y_train)"
   ]
  },
  {
   "cell_type": "code",
   "execution_count": 24,
   "metadata": {},
   "outputs": [
    {
     "data": {
      "text/plain": [
       "(500, 4000)"
      ]
     },
     "execution_count": 24,
     "metadata": {},
     "output_type": "execute_result"
    }
   ],
   "source": [
    "x_df=np.zeros((500,4000))\n",
    "x_df=pd.DataFrame(x_df,columns=values)\n",
    "x_df.shape"
   ]
  },
  {
   "cell_type": "code",
   "execution_count": 25,
   "metadata": {},
   "outputs": [],
   "source": [
    "index=0\n",
    "for i in range(x_test.shape[0]):\n",
    "        list1=0\n",
    "        list2=0\n",
    "        list3=0\n",
    "        list=0\n",
    "        list4=0\n",
    "        obj=open(x_test[i],errors=\"ignore\")\n",
    "        #print(c)\n",
    "        c=obj.readlines()\n",
    "        list=(\" \".join(c[7:])).lower().split()\n",
    "        \n",
    "        list1=' '.join(i for i in list if i.lower() not in (x.lower() for x in stop_word_list))\n",
    "        regex = re.compile('[%s]' % re.escape(string.punctuation))\n",
    "        list2=''.join(ch for ch in list1 if ch not in p_marks)\n",
    "        list3=\"\".join([c for c in list2 if not c.isdigit()])\n",
    "        list4=list3.split()\n",
    "\n",
    "        for k in list4:\n",
    "            if k in col_val:\n",
    "                x_df[k][index]+=1\n",
    "                #for j in range(len(col_val)):\n",
    "                   # if k==col_val[j]:\n",
    "                    #    x.iloc[i,j]+=1\n",
    "        index+=1\n"
   ]
  },
  {
   "cell_type": "code",
   "execution_count": 26,
   "metadata": {},
   "outputs": [],
   "source": [
    "y_pred=clf.predict(x_df.values)"
   ]
  },
  {
   "cell_type": "code",
   "execution_count": 27,
   "metadata": {},
   "outputs": [
    {
     "name": "stdout",
     "output_type": "stream",
     "text": [
      "                          precision    recall  f1-score   support\n",
      "\n",
      "             alt.atheism       0.61      0.48      0.54        29\n",
      "           comp.graphics       0.61      0.59      0.60        29\n",
      " comp.os.ms-windows.misc       0.31      0.75      0.44        16\n",
      "comp.sys.ibm.pc.hardware       0.66      0.66      0.66        32\n",
      "   comp.sys.mac.hardware       0.58      0.49      0.53        39\n",
      "          comp.windows.x       0.79      0.52      0.62        29\n",
      "            misc.forsale       0.75      0.92      0.83        26\n",
      "               rec.autos       0.59      0.70      0.64        23\n",
      "         rec.motorcycles       0.57      0.81      0.67        21\n",
      "      rec.sport.baseball       0.90      0.64      0.75        28\n",
      "        rec.sport.hockey       0.82      0.92      0.87        25\n",
      "               sci.crypt       0.82      0.88      0.85        16\n",
      "         sci.electronics       0.79      0.41      0.54        27\n",
      "                 sci.med       0.84      0.73      0.78        22\n",
      "               sci.space       0.89      0.74      0.81        23\n",
      "  soc.religion.christian       0.83      0.96      0.89        25\n",
      "      talk.politics.guns       0.55      0.89      0.68        19\n",
      "   talk.politics.mideast       0.91      0.87      0.89        23\n",
      "      talk.politics.misc       0.71      0.36      0.48        28\n",
      "      talk.religion.misc       0.46      0.55      0.50        20\n",
      "\n",
      "               micro avg       0.67      0.67      0.67       500\n",
      "               macro avg       0.70      0.69      0.68       500\n",
      "            weighted avg       0.70      0.67      0.67       500\n",
      "\n"
     ]
    }
   ],
   "source": [
    "print(classification_report(y_pred=y_pred,y_true=y_test))"
   ]
  }
 ],
 "metadata": {
  "kernelspec": {
   "display_name": "Python 3",
   "language": "python",
   "name": "python3"
  },
  "language_info": {
   "codemirror_mode": {
    "name": "ipython",
    "version": 3
   },
   "file_extension": ".py",
   "mimetype": "text/x-python",
   "name": "python",
   "nbconvert_exporter": "python",
   "pygments_lexer": "ipython3",
   "version": "3.7.1"
  }
 },
 "nbformat": 4,
 "nbformat_minor": 2
}
